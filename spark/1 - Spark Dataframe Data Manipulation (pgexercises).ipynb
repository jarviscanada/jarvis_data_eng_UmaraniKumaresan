{
 "cells": [
  {
   "cell_type": "markdown",
   "metadata": {
    "application/vnd.databricks.v1+cell": {
     "cellMetadata": {
      "byteLimit": 2048000,
      "rowLimit": 10000
     },
     "inputWidgets": {},
     "nuid": "861d8a88-d2a3-48d0-81b2-aa61a3931ff7",
     "showTitle": false,
     "tableResultSettingsMap": {},
     "title": ""
    }
   },
   "source": [
    "### Question\n",
    "1. How can you produce a list of the start times for bookings by members named 'David Farrell'?"
   ]
  },
  {
   "cell_type": "code",
   "execution_count": 0,
   "metadata": {
    "application/vnd.databricks.v1+cell": {
     "cellMetadata": {
      "byteLimit": 2048000,
      "rowLimit": 10000
     },
     "inputWidgets": {},
     "nuid": "5829a259-39a5-4f59-839b-f071f28d062f",
     "showTitle": false,
     "tableResultSettingsMap": {},
     "title": ""
    }
   },
   "outputs": [
    {
     "output_type": "stream",
     "name": "stdout",
     "output_type": "stream",
     "text": [
      "+-------------------+\n|          starttime|\n+-------------------+\n|2012-09-18 09:00:00|\n|2012-09-18 17:30:00|\n|2012-09-18 13:30:00|\n|2012-09-18 20:00:00|\n|2012-09-19 09:30:00|\n|2012-09-19 15:00:00|\n|2012-09-19 12:00:00|\n|2012-09-20 15:30:00|\n|2012-09-20 11:30:00|\n|2012-09-20 14:00:00|\n|2012-09-21 10:30:00|\n|2012-09-21 14:00:00|\n|2012-09-22 08:30:00|\n|2012-09-22 17:00:00|\n|2012-09-23 08:30:00|\n|2012-09-23 17:30:00|\n|2012-09-23 19:00:00|\n|2012-09-24 08:00:00|\n|2012-09-24 16:30:00|\n|2012-09-24 12:30:00|\n+-------------------+\nonly showing top 20 rows\n\n"
     ]
    }
   ],
   "source": [
    "from pyspark.sql.functions import col \n",
    "\n",
    "df_booking = spark.table('bookings')\n",
    "df_facilities = spark.table('facilities')\n",
    "result = df_booking.join(df_facilities, df_booking.memid == df_facilities.memid, \"inner\")\n",
    "result = result.filter((col('firstname')==\"David\") & (col('surname') == \"Farrell\")).select(col('starttime'))\n",
    "result.show()"
   ]
  },
  {
   "cell_type": "markdown",
   "metadata": {
    "application/vnd.databricks.v1+cell": {
     "cellMetadata": {
      "byteLimit": 2048000,
      "rowLimit": 10000
     },
     "inputWidgets": {},
     "nuid": "d2b49e33-0bd6-4a3f-8c27-f70835576fcb",
     "showTitle": false,
     "tableResultSettingsMap": {},
     "title": ""
    }
   },
   "source": [
    "### **Question**\n",
    "2. How can you produce a list of the start times for bookings for tennis courts, for the date '2012-09-21'? Return a list of start time and facility name pairings, ordered by the time."
   ]
  },
  {
   "cell_type": "code",
   "execution_count": 0,
   "metadata": {
    "application/vnd.databricks.v1+cell": {
     "cellMetadata": {
      "byteLimit": 2048000,
      "rowLimit": 10000
     },
     "inputWidgets": {},
     "nuid": "cb11a3ad-7990-4383-94f1-69012a1d9cbf",
     "showTitle": false,
     "tableResultSettingsMap": {},
     "title": ""
    }
   },
   "outputs": [
    {
     "output_type": "stream",
     "name": "stdout",
     "output_type": "stream",
     "text": [
      "+-------------------+--------------+\n|          starttime|          name|\n+-------------------+--------------+\n|2012-09-21 11:30:00|Tennis Court 2|\n|2012-09-21 14:00:00|Tennis Court 1|\n|2012-09-21 19:30:00|Tennis Court 2|\n|2012-09-21 10:30:00|Tennis Court 1|\n|2012-09-21 13:00:00|Tennis Court 1|\n|2012-09-21 15:30:00|Tennis Court 1|\n|2012-09-21 17:30:00|Tennis Court 2|\n|2012-09-21 18:30:00|  Table Tennis|\n|2012-09-21 17:30:00|Tennis Court 1|\n|2012-09-21 09:30:00|Tennis Court 1|\n|2012-09-21 11:30:00|Tennis Court 1|\n|2012-09-21 14:00:00|Tennis Court 1|\n|2012-09-21 11:00:00|  Table Tennis|\n|2012-09-21 16:00:00|  Table Tennis|\n|2012-09-21 19:30:00|  Table Tennis|\n+-------------------+--------------+\n\n"
     ]
    }
   ],
   "source": [
    "from pyspark.sql.functions import col \n",
    "\n",
    "df_booking = spark.table('bookings')\n",
    "df_members = spark.table('members')\n",
    "result = df_booking.join(df_members,df_booking.memid == df_members.facid, \"inner\")\n",
    "result = result.filter((col('name').contains (\"Tennis\")) & (col('starttime') >= \"2012-09-21\") & (col('starttime') < \"2012-09-22\")).select( 'starttime', 'name')\n",
    "result.show()"
   ]
  },
  {
   "cell_type": "markdown",
   "metadata": {
    "application/vnd.databricks.v1+cell": {
     "cellMetadata": {
      "byteLimit": 2048000,
      "rowLimit": 10000
     },
     "inputWidgets": {},
     "nuid": "783068dc-e4d8-496c-b4b4-af10dc26d68e",
     "showTitle": false,
     "tableResultSettingsMap": {},
     "title": ""
    }
   },
   "source": [
    "### Question\n",
    "3. How can you output a list of all members, including the individual who recommended them (if any)? Ensure that results are ordered by (surname, firstname)."
   ]
  },
  {
   "cell_type": "code",
   "execution_count": 0,
   "metadata": {
    "application/vnd.databricks.v1+cell": {
     "cellMetadata": {
      "byteLimit": 2048000,
      "rowLimit": 10000
     },
     "inputWidgets": {},
     "nuid": "48b6c832-e342-4cd1-8157-c397590d2fee",
     "showTitle": false,
     "tableResultSettingsMap": {},
     "title": ""
    }
   },
   "outputs": [
    {
     "output_type": "stream",
     "name": "stdout",
     "output_type": "stream",
     "text": [
      "+----------+---------+-----------------------+---------------------+\n|First name|  Surname|recommendedby firstname|recommendedby surname|\n+----------+---------+-----------------------+---------------------+\n|  Florence|    Bader|                 Ponder|             Stibbons|\n|      Anne|    Baker|                 Ponder|             Stibbons|\n|   Timothy|    Baker|                 Jemima|              Farrell|\n|       Tim|   Boothe|                    Tim|               Rownam|\n|    Gerald|  Butters|                 Darren|                Smith|\n|      Joan|   Coplin|                Timothy|                Baker|\n|     Erica|  Crumpet|                  Tracy|                Smith|\n|     Nancy|     Dare|                 Janice|             Joplette|\n|     David|  Farrell|                   null|                 null|\n|    Jemima|  Farrell|                   null|                 null|\n|     GUEST|    GUEST|                   null|                 null|\n|   Matthew|  Genting|                 Gerald|              Butters|\n|      John|     Hunt|              Millicent|              Purview|\n|     David|    Jones|                 Janice|             Joplette|\n|   Douglas|    Jones|                  David|                Jones|\n|    Janice| Joplette|                 Darren|                Smith|\n|      Anna|Mackenzie|                 Darren|                Smith|\n|   Charles|     Owen|                 Darren|                Smith|\n|     David|   Pinker|                 Jemima|              Farrell|\n| Millicent|  Purview|                  Tracy|                Smith|\n+----------+---------+-----------------------+---------------------+\nonly showing top 20 rows\n\n"
     ]
    }
   ],
   "source": [
    "result = df_facilities.alias('fac1').join(df_facilities.alias('fac2'), col('fac1.recommendedby') == col('fac2.memid'), \"left\").select (col('fac1.firstname').alias ('First name'), col('fac1.surname').alias ('Surname'), col('fac2.firstname').alias('recommendedby firstname'),col( 'fac2.surname').alias('recommendedby surname')).orderBy ('fac1.surname','fac1.firstname')\n",
    "\n",
    "result.show()"
   ]
  },
  {
   "cell_type": "markdown",
   "metadata": {
    "application/vnd.databricks.v1+cell": {
     "cellMetadata": {
      "byteLimit": 2048000,
      "rowLimit": 10000
     },
     "inputWidgets": {},
     "nuid": "6473faa3-d397-462f-8a97-a65291ca19f6",
     "showTitle": false,
     "tableResultSettingsMap": {},
     "title": ""
    }
   },
   "source": [
    "### Question\n",
    "4. How can you produce a list of all members who have used a tennis court? Include in your output the name of the court, and the name of the member formatted as a single column. Ensure no duplicate data, and order by the member name followed by the facility name."
   ]
  },
  {
   "cell_type": "code",
   "execution_count": 0,
   "metadata": {
    "application/vnd.databricks.v1+cell": {
     "cellMetadata": {
      "byteLimit": 2048000,
      "rowLimit": 10000
     },
     "inputWidgets": {},
     "nuid": "9b2015ca-c3fd-472b-a77a-dd0e7d7df1d1",
     "showTitle": false,
     "tableResultSettingsMap": {},
     "title": ""
    }
   },
   "outputs": [
    {
     "output_type": "stream",
     "name": "stdout",
     "output_type": "stream",
     "text": [
      "+--------------+--------------+\n|        member|      facility|\n+--------------+--------------+\n|    Anne Baker|Tennis Court 1|\n|    Anne Baker|Tennis Court 2|\n|  Burton Tracy|Tennis Court 1|\n|  Burton Tracy|Tennis Court 2|\n|  Charles Owen|Tennis Court 1|\n|  Charles Owen|Tennis Court 2|\n|  Darren Smith|Tennis Court 2|\n| David Farrell|Tennis Court 1|\n| David Farrell|Tennis Court 2|\n|   David Jones|Tennis Court 1|\n|   David Jones|Tennis Court 2|\n|  David Pinker|Tennis Court 1|\n| Douglas Jones|Tennis Court 1|\n| Erica Crumpet|Tennis Court 1|\n|Florence Bader|Tennis Court 1|\n|Florence Bader|Tennis Court 2|\n|   GUEST GUEST|Tennis Court 1|\n|   GUEST GUEST|Tennis Court 2|\n|Gerald Butters|Tennis Court 1|\n|Gerald Butters|Tennis Court 2|\n+--------------+--------------+\nonly showing top 20 rows\n\n"
     ]
    }
   ],
   "source": [
    "from pyspark.sql.functions import concat, col, lit\n",
    "\n",
    "result = df_facilities.join(df_booking, df_facilities.memid == df_booking.memid, 'inner').join(df_members, df_booking.facid == df_members.facid, 'inner').select(concat(df_facilities.firstname, lit(' '), df_facilities.surname).alias('member'),df_members.name.alias('facility')).filter(col('facility').contains('Tennis Court')).distinct().orderBy('member', 'facility')\n",
    "\n",
    "result.show()"
   ]
  },
  {
   "cell_type": "markdown",
   "metadata": {
    "application/vnd.databricks.v1+cell": {
     "cellMetadata": {
      "byteLimit": 2048000,
      "rowLimit": 10000
     },
     "inputWidgets": {},
     "nuid": "bd92161b-89d3-4dd8-ac00-522c670b34b3",
     "showTitle": false,
     "tableResultSettingsMap": {},
     "title": ""
    }
   },
   "source": [
    "### Question\n",
    "5. How can you output a list of all members, including the individual who recommended them (if any), without using any joins? Ensure that there are no duplicates in the list, and that each firstname + surname pairing is formatted as a column and ordered."
   ]
  },
  {
   "cell_type": "code",
   "execution_count": 0,
   "metadata": {
    "application/vnd.databricks.v1+cell": {
     "cellMetadata": {
      "byteLimit": 2048000,
      "rowLimit": 10000
     },
     "inputWidgets": {},
     "nuid": "07ad3b76-74aa-48d1-be4a-46e18d9f804c",
     "showTitle": false,
     "tableResultSettingsMap": {},
     "title": ""
    }
   },
   "outputs": [
    {
     "output_type": "stream",
     "name": "stdout",
     "output_type": "stream",
     "text": [
      "+--------------------+---------------+\n|              member|    recommender|\n+--------------------+---------------+\n|      Anna Mackenzie|   Darren Smith|\n|          Anne Baker|Ponder Stibbons|\n|        Burton Tracy|           null|\n|        Charles Owen|   Darren Smith|\n|        Darren Smith|           null|\n|       David Farrell|           null|\n|         David Jones|Janice Joplette|\n|        David Pinker| Jemima Farrell|\n|       Douglas Jones|    David Jones|\n|       Erica Crumpet|    Tracy Smith|\n|      Florence Bader|Ponder Stibbons|\n|         GUEST GUEST|           null|\n|      Gerald Butters|   Darren Smith|\n|    Henrietta Rumney|Matthew Genting|\n|Henry Worthington...|    Tracy Smith|\n| Hyacinth Tupperware|           null|\n|          Jack Smith|   Darren Smith|\n|     Janice Joplette|   Darren Smith|\n|      Jemima Farrell|           null|\n|         Joan Coplin|  Timothy Baker|\n+--------------------+---------------+\nonly showing top 20 rows\n\n"
     ]
    }
   ],
   "source": [
    "from pyspark.sql import functions as F\n",
    "from pyspark.sql.window import Window\n",
    "\n",
    "df_m = df_facilities.alias(\"m\")\n",
    "df_r = df_facilities.alias(\"r\")\n",
    "\n",
    "result = (df_m\n",
    "    .join(df_r, F.col(\"m.recommendedby\") == F.col(\"r.memid\"), \"left\")\n",
    "    .select(\n",
    "        F.concat(F.col(\"m.firstname\"), F.lit(\" \"), F.col(\"m.surname\")).alias(\"member\"),\n",
    "        F.concat(F.col(\"r.firstname\"), F.lit(\" \"), F.col(\"r.surname\")).alias(\"recommender\")\n",
    "    )\n",
    "    .distinct()\n",
    "    .orderBy(\"member\"))\n",
    "\n",
    "result.show()\n"
   ]
  },
  {
   "cell_type": "markdown",
   "metadata": {
    "application/vnd.databricks.v1+cell": {
     "cellMetadata": {
      "byteLimit": 2048000,
      "rowLimit": 10000
     },
     "inputWidgets": {},
     "nuid": "3f0b499b-5e2a-4b99-bdad-a26e809e401a",
     "showTitle": false,
     "tableResultSettingsMap": {},
     "title": ""
    }
   },
   "source": [
    "## Aggregation"
   ]
  },
  {
   "cell_type": "markdown",
   "metadata": {
    "application/vnd.databricks.v1+cell": {
     "cellMetadata": {
      "byteLimit": 2048000,
      "rowLimit": 10000
     },
     "inputWidgets": {},
     "nuid": "c71bf4da-683e-4a95-893d-e65aa90a47c9",
     "showTitle": false,
     "tableResultSettingsMap": {},
     "title": ""
    }
   },
   "source": [
    "### Question\n",
    "1. Produce a count of the number of recommendations each member has made. Order by member ID.\n",
    "\n",
    "easy - https://pgexercises.com/questions/aggregates/count3.html Group by order by"
   ]
  },
  {
   "cell_type": "code",
   "execution_count": 0,
   "metadata": {
    "application/vnd.databricks.v1+cell": {
     "cellMetadata": {
      "byteLimit": 2048000,
      "rowLimit": 10000
     },
     "inputWidgets": {},
     "nuid": "2b53d1b1-a517-4d3a-ac6e-75b4927e2aac",
     "showTitle": false,
     "tableResultSettingsMap": {},
     "title": ""
    }
   },
   "outputs": [
    {
     "output_type": "stream",
     "name": "stdout",
     "output_type": "stream",
     "text": [
      "+-------------+-----+\n|recommendedby|count|\n+-------------+-----+\n|            1|    5|\n|            2|    3|\n|            3|    1|\n|            4|    2|\n|            5|    1|\n|            6|    1|\n|            9|    2|\n|           11|    1|\n|           13|    2|\n|           15|    1|\n|           16|    1|\n|           20|    1|\n|           30|    1|\n+-------------+-----+\n\n"
     ]
    }
   ],
   "source": [
    "from pyspark.sql import functions as F\n",
    "\n",
    "df = (df_facilities\n",
    "      .where(F.col(\"recommendedby\").isNotNull())\n",
    "      .groupBy(\"recommendedby\")\n",
    "      .count()\n",
    "      .orderBy(\"recommendedby\"))\n",
    "\n",
    "df.show()\n"
   ]
  },
  {
   "cell_type": "markdown",
   "metadata": {
    "application/vnd.databricks.v1+cell": {
     "cellMetadata": {
      "byteLimit": 2048000,
      "rowLimit": 10000
     },
     "inputWidgets": {},
     "nuid": "3e40dc92-9ad1-4edb-a848-ebfc06934c9c",
     "showTitle": false,
     "tableResultSettingsMap": {},
     "title": ""
    }
   },
   "source": [
    "### Question\n",
    "2. Produce a list of the total number of slots booked per facility. For now, just produce an output table consisting of facility id and slots, sorted by facility id.\n",
    "\n",
    "easy - https://pgexercises.com/questions/aggregates/fachours.html group by order by"
   ]
  },
  {
   "cell_type": "code",
   "execution_count": 0,
   "metadata": {
    "application/vnd.databricks.v1+cell": {
     "cellMetadata": {
      "byteLimit": 2048000,
      "implicitDf": true,
      "rowLimit": 10000
     },
     "inputWidgets": {},
     "nuid": "0bb2b848-6d32-4f74-b462-64517e3f3c33",
     "showTitle": false,
     "tableResultSettingsMap": {},
     "title": ""
    }
   },
   "outputs": [
    {
     "output_type": "stream",
     "name": "stdout",
     "output_type": "stream",
     "text": [
      "+-----+-----------+\n|facid|Total Slots|\n+-----+-----------+\n|    0|       1320|\n|    1|       1278|\n|    2|       1209|\n|    3|        830|\n|    4|       1404|\n|    5|        228|\n|    6|       1104|\n|    7|        908|\n|    8|        911|\n+-----+-----------+\n\n"
     ]
    }
   ],
   "source": [
    "\n",
    "from pyspark.sql import functions as F\n",
    "\n",
    "df = (df_booking\n",
    "      .groupBy(\"facid\")\n",
    "      .agg(F.sum(\"slots\").alias(\"Total Slots\"))\n",
    "      .orderBy(\"facid\"))\n",
    "\n",
    "df.show()\n"
   ]
  },
  {
   "cell_type": "markdown",
   "metadata": {
    "application/vnd.databricks.v1+cell": {
     "cellMetadata": {
      "byteLimit": 2048000,
      "rowLimit": 10000
     },
     "inputWidgets": {},
     "nuid": "caba2034-9729-4297-895f-11492a674f04",
     "showTitle": false,
     "tableResultSettingsMap": {},
     "title": ""
    }
   },
   "source": [
    "### Question\n",
    "3. Produce a list of the total number of slots booked per facility in the month of September 2012. Produce an output table consisting of facility id and slots, sorted by the number of slots.\n",
    "\n",
    "easy - https://pgexercises.com/questions/aggregates/fachoursbymonth.html group by with condition\n",
    "\n"
   ]
  },
  {
   "cell_type": "code",
   "execution_count": 0,
   "metadata": {
    "application/vnd.databricks.v1+cell": {
     "cellMetadata": {
      "byteLimit": 2048000,
      "rowLimit": 10000
     },
     "inputWidgets": {},
     "nuid": "3012c436-9950-4d42-9b70-1ccb3bb42bc8",
     "showTitle": false,
     "tableResultSettingsMap": {},
     "title": ""
    }
   },
   "outputs": [
    {
     "output_type": "stream",
     "name": "stdout",
     "output_type": "stream",
     "text": [
      "+-----+----------+\n|facid|sum(slots)|\n+-----+----------+\n|    0|       591|\n|    1|       588|\n|    2|       570|\n|    3|       422|\n|    4|       648|\n|    5|       122|\n|    6|       540|\n|    7|       426|\n|    8|       471|\n+-----+----------+\n\n"
     ]
    }
   ],
   "source": [
    "from pyspark.sql import functions as F\n",
    "\n",
    "df = (df_booking\n",
    "      .filter((F.col(\"starttime\") >= F.to_date(F.lit('01-09-2012'), 'dd-MM-yyyy')) & (F.col(\"starttime\") < F.to_date(F.lit('01-10-2012'), 'dd-MM-yyyy')))\n",
    "      .groupBy(\"facid\")\n",
    "      .agg(F.sum(\"slots\"))\n",
    "      .orderBy(\"facid\"))\n",
    "\n",
    "df.show()"
   ]
  },
  {
   "cell_type": "markdown",
   "metadata": {
    "application/vnd.databricks.v1+cell": {
     "cellMetadata": {
      "byteLimit": 2048000,
      "rowLimit": 10000
     },
     "inputWidgets": {},
     "nuid": "c45ac465-dfb2-4c83-a595-91e8418166fb",
     "showTitle": false,
     "tableResultSettingsMap": {},
     "title": ""
    }
   },
   "source": [
    "### Question\n",
    "4. Produce a list of the total number of slots booked per facility per month in the year of 2012. Produce an output table consisting of facility id and slots, sorted by the id and month.\n",
    "\n",
    "easy - https://pgexercises.com/questions/aggregates/fachoursbymonth2.html group by multi col\n"
   ]
  },
  {
   "cell_type": "code",
   "execution_count": 0,
   "metadata": {
    "application/vnd.databricks.v1+cell": {
     "cellMetadata": {
      "byteLimit": 2048000,
      "rowLimit": 10000
     },
     "inputWidgets": {},
     "nuid": "921a320d-fc83-497f-83ca-1d4e7f013f46",
     "showTitle": false,
     "tableResultSettingsMap": {},
     "title": ""
    }
   },
   "outputs": [
    {
     "output_type": "stream",
     "name": "stdout",
     "output_type": "stream",
     "text": [
      "+-----+-----+----------+\n|facid|month|sum(slots)|\n+-----+-----+----------+\n|    0|   07|       270|\n|    0|   08|       459|\n|    0|   09|       591|\n|    1|   07|       207|\n|    1|   08|       483|\n|    1|   09|       588|\n|    2|   07|       180|\n|    2|   08|       459|\n|    2|   09|       570|\n|    3|   07|       104|\n|    3|   08|       304|\n|    3|   09|       422|\n|    4|   07|       264|\n|    4|   08|       492|\n|    4|   09|       648|\n|    5|   07|        24|\n|    5|   08|        82|\n|    5|   09|       122|\n|    6|   07|       164|\n|    6|   08|       400|\n+-----+-----+----------+\nonly showing top 20 rows\n\n"
     ]
    }
   ],
   "source": [
    "from pyspark.sql import functions as F\n",
    "\n",
    "df = (df_booking\n",
    "      .filter((F.col(\"starttime\") >= F.to_date(F.lit('01-01-2012'), 'dd-MM-yyyy')) & (F.col(\"starttime\") < F.to_date(F.lit('01-01-2013'), 'dd-MM-yyyy')) )\n",
    "      .select(\n",
    "          \"facid\",\n",
    "          F.date_format(F.col(\"starttime\"), \"MM\").alias(\"month\"),\n",
    "          \"slots\"\n",
    "      )\n",
    "      .groupBy(\"facid\",\"month\")\n",
    "      .agg(F.sum(\"slots\"))\n",
    "      .orderBy(\"facid\",  \"month\"))\n",
    "\n",
    "df.show()"
   ]
  },
  {
   "cell_type": "markdown",
   "metadata": {
    "application/vnd.databricks.v1+cell": {
     "cellMetadata": {
      "byteLimit": 2048000,
      "rowLimit": 10000
     },
     "inputWidgets": {},
     "nuid": "a0a1aeaa-affb-4e47-bd9e-10d77138150e",
     "showTitle": false,
     "tableResultSettingsMap": {},
     "title": ""
    }
   },
   "source": [
    "### Question\n",
    "5. Find the total number of members (including guests) who have made at least one booking.\n",
    "\n",
    "easy - https://pgexercises.com/questions/aggregates/members1.html count distinct"
   ]
  },
  {
   "cell_type": "code",
   "execution_count": 0,
   "metadata": {
    "application/vnd.databricks.v1+cell": {
     "cellMetadata": {
      "byteLimit": 2048000,
      "rowLimit": 10000
     },
     "inputWidgets": {},
     "nuid": "40db70bc-3584-426b-8c19-f3de1cbb61a5",
     "showTitle": false,
     "tableResultSettingsMap": {},
     "title": ""
    }
   },
   "outputs": [
    {
     "output_type": "stream",
     "name": "stdout",
     "output_type": "stream",
     "text": [
      "30\n"
     ]
    }
   ],
   "source": [
    "from pyspark.sql import functions as F\n",
    "\n",
    "result = df_booking.select('memid').distinct().count()\n",
    "print(result)"
   ]
  },
  {
   "cell_type": "markdown",
   "metadata": {
    "application/vnd.databricks.v1+cell": {
     "cellMetadata": {
      "byteLimit": 2048000,
      "rowLimit": 10000
     },
     "inputWidgets": {},
     "nuid": "0065d087-3225-4612-b021-8872030e8ea7",
     "showTitle": false,
     "tableResultSettingsMap": {},
     "title": ""
    }
   },
   "source": [
    "### Question\n",
    "6.Produce a list of each member name, id, and their first booking after September 1st 2012. Order by member ID.\n",
    "\n",
    "med - https://pgexercises.com/questions/aggregates/nbooking.html group by multiple cols, join\n"
   ]
  },
  {
   "cell_type": "code",
   "execution_count": 0,
   "metadata": {
    "application/vnd.databricks.v1+cell": {
     "cellMetadata": {
      "byteLimit": 2048000,
      "rowLimit": 10000
     },
     "inputWidgets": {},
     "nuid": "5d8b3382-272e-4601-8244-dad6817311ec",
     "showTitle": false,
     "tableResultSettingsMap": {},
     "title": ""
    }
   },
   "outputs": [
    {
     "output_type": "stream",
     "name": "stdout",
     "output_type": "stream",
     "text": [
      "+---------+---------+-----+-------------------+\n|  surname|firstname|memid|      first_booking|\n+---------+---------+-----+-------------------+\n|    GUEST|    GUEST|    0|2012-09-01 08:00:00|\n|    Smith|   Darren|    1|2012-09-01 09:00:00|\n|    Smith|    Tracy|    2|2012-09-01 11:30:00|\n|   Rownam|      Tim|    3|2012-09-01 16:00:00|\n| Joplette|   Janice|    4|2012-09-01 15:00:00|\n|  Butters|   Gerald|    5|2012-09-02 12:30:00|\n|    Tracy|   Burton|    6|2012-09-01 15:00:00|\n|     Dare|    Nancy|    7|2012-09-01 12:30:00|\n|   Boothe|      Tim|    8|2012-09-01 08:30:00|\n| Stibbons|   Ponder|    9|2012-09-01 11:00:00|\n|     Owen|  Charles|   10|2012-09-01 11:00:00|\n|    Jones|    David|   11|2012-09-01 09:30:00|\n|    Baker|     Anne|   12|2012-09-01 14:30:00|\n|  Farrell|   Jemima|   13|2012-09-01 09:30:00|\n|    Smith|     Jack|   14|2012-09-01 11:00:00|\n|    Bader| Florence|   15|2012-09-01 10:30:00|\n|    Baker|  Timothy|   16|2012-09-01 15:00:00|\n|   Pinker|    David|   17|2012-09-01 08:30:00|\n|  Genting|  Matthew|   20|2012-09-01 18:00:00|\n|Mackenzie|     Anna|   21|2012-09-01 08:30:00|\n+---------+---------+-----+-------------------+\nonly showing top 20 rows\n\n"
     ]
    }
   ],
   "source": [
    "from pyspark.sql import functions as F\n",
    "\n",
    "result = (\n",
    "    df_facilities\n",
    "    .join(df_booking, df_facilities.memid == df_booking.memid, 'inner')\n",
    "    .filter(df_booking.starttime >= F.to_date(F.lit('01-09-2012'), 'dd-MM-yyyy'))\n",
    "    .groupBy(df_facilities.surname, df_facilities.firstname, df_facilities.memid)\n",
    "    .agg(F.min(df_booking.starttime).alias(\"first_booking\"))\n",
    "    .orderBy(df_facilities.memid)\n",
    ")\n",
    "\n",
    "result.show()\n",
    "\n",
    "\n"
   ]
  },
  {
   "cell_type": "markdown",
   "metadata": {
    "application/vnd.databricks.v1+cell": {
     "cellMetadata": {
      "byteLimit": 2048000,
      "rowLimit": 10000
     },
     "inputWidgets": {},
     "nuid": "f8e82981-d7cb-4408-8610-5b48fcb542e6",
     "showTitle": false,
     "tableResultSettingsMap": {},
     "title": ""
    }
   },
   "source": [
    "## String and Date"
   ]
  },
  {
   "cell_type": "markdown",
   "metadata": {
    "application/vnd.databricks.v1+cell": {
     "cellMetadata": {
      "byteLimit": 2048000,
      "rowLimit": 10000
     },
     "inputWidgets": {},
     "nuid": "1ae9c023-496e-4bf5-bc73-6643c95c85cc",
     "showTitle": false,
     "tableResultSettingsMap": {},
     "title": ""
    }
   },
   "source": [
    "### Question\n",
    "1. Output the names of all members, formatted as 'Surname, Firstname'\n",
    "\n",
    "easy - https://pgexercises.com/questions/string/concat.html format string\n"
   ]
  },
  {
   "cell_type": "code",
   "execution_count": 0,
   "metadata": {
    "application/vnd.databricks.v1+cell": {
     "cellMetadata": {
      "byteLimit": 2048000,
      "rowLimit": 10000
     },
     "inputWidgets": {},
     "nuid": "c10180c4-5255-4f83-83fe-b45d67b74de5",
     "showTitle": false,
     "tableResultSettingsMap": {},
     "title": ""
    }
   },
   "outputs": [
    {
     "output_type": "stream",
     "name": "stdout",
     "output_type": "stream",
     "text": [
      "+----------------+\n|            name|\n+----------------+\n|    GUEST, GUEST|\n|   Smith, Darren|\n|    Smith, Tracy|\n|     Rownam, Tim|\n|Joplette, Janice|\n| Butters, Gerald|\n|   Tracy, Burton|\n|     Dare, Nancy|\n|     Boothe, Tim|\n|Stibbons, Ponder|\n|   Owen, Charles|\n|    Jones, David|\n|     Baker, Anne|\n| Farrell, Jemima|\n|     Smith, Jack|\n| Bader, Florence|\n|  Baker, Timothy|\n|   Pinker, David|\n|Genting, Matthew|\n| Mackenzie, Anna|\n+----------------+\nonly showing top 20 rows\n\n"
     ]
    }
   ],
   "source": [
    "from pyspark.sql import functions as F\n",
    "\n",
    "result = df_facilities.select(F.concat_ws(', ', F.col(\"surname\"), F.col(\"firstname\")).alias(\"name\")) \\\n",
    "    .filter(F.col(\"memid\").isNotNull())\n",
    "\n",
    "result.show()\n"
   ]
  },
  {
   "cell_type": "markdown",
   "metadata": {
    "application/vnd.databricks.v1+cell": {
     "cellMetadata": {
      "byteLimit": 2048000,
      "rowLimit": 10000
     },
     "inputWidgets": {},
     "nuid": "49c7c507-8a5f-4c64-8de3-f3a2492c48f0",
     "showTitle": false,
     "tableResultSettingsMap": {},
     "title": ""
    }
   },
   "source": [
    "### Question\n",
    "2. Perform a case-insensitive search to find all facilities whose name begins with 'tennis'. Retrieve all columns.\n",
    "\n",
    "easy - https://pgexercises.com/questions/string/case.html WHERE + string function\n",
    "\n",
    "select * from cd.facilities where upper(name) like 'TENNIS%';\n"
   ]
  },
  {
   "cell_type": "code",
   "execution_count": 0,
   "metadata": {
    "application/vnd.databricks.v1+cell": {
     "cellMetadata": {
      "byteLimit": 2048000,
      "rowLimit": 10000
     },
     "inputWidgets": {},
     "nuid": "66163509-40bc-4f95-80b0-5601d60cb426",
     "showTitle": false,
     "tableResultSettingsMap": {},
     "title": ""
    }
   },
   "outputs": [
    {
     "output_type": "stream",
     "name": "stdout",
     "output_type": "stream",
     "text": [
      "+-----+--------------+----------+---------+-------------+------------------+\n|facid|          name|membercost|guestcost|initialoutlay|monthlymaintenance|\n+-----+--------------+----------+---------+-------------+------------------+\n|    0|Tennis Court 1|       5.0|     25.0|        10000|               200|\n|    1|Tennis Court 2|       5.0|     25.0|         8000|               200|\n+-----+--------------+----------+---------+-------------+------------------+\n\n"
     ]
    }
   ],
   "source": [
    "from pyspark.sql import functions as F\n",
    "\n",
    "result = df_members.filter(F.upper(F.col(\"name\")).like(\"TENNIS%\"))\n",
    "\n",
    "result.show()"
   ]
  },
  {
   "cell_type": "markdown",
   "metadata": {
    "application/vnd.databricks.v1+cell": {
     "cellMetadata": {
      "byteLimit": 2048000,
      "rowLimit": 10000
     },
     "inputWidgets": {},
     "nuid": "277f6524-e34d-4818-a344-74c7786215a0",
     "showTitle": false,
     "tableResultSettingsMap": {},
     "title": ""
    }
   },
   "source": [
    "### Question\n",
    "3. You've noticed that the club's member table has telephone numbers with very inconsistent formatting. You'd like to find all the telephone numbers that contain parentheses, returning the member ID and telephone number sorted by member ID.\n",
    "\n",
    "easy - https://pgexercises.com/questions/string/reg.html WHERE + string function\n",
    "\n"
   ]
  },
  {
   "cell_type": "code",
   "execution_count": 0,
   "metadata": {
    "application/vnd.databricks.v1+cell": {
     "cellMetadata": {
      "byteLimit": 2048000,
      "rowLimit": 10000
     },
     "inputWidgets": {},
     "nuid": "0ffd9e1e-8dbe-47e7-9378-b3f793fb7764",
     "showTitle": false,
     "tableResultSettingsMap": {},
     "title": ""
    }
   },
   "outputs": [
    {
     "output_type": "stream",
     "name": "stdout",
     "output_type": "stream",
     "text": [
      "+-----+--------------+\n|memid|     telephone|\n+-----+--------------+\n|    0|(000) 000-0000|\n|    1|  555-555-5555|\n|    2|  555-555-5555|\n|    3|(844) 693-0723|\n|    4|(833) 942-4710|\n|    5|(844) 078-4130|\n|    6|(822) 354-9973|\n|    7|(833) 776-4001|\n|    8|(811) 433-2547|\n|    9|(833) 160-3900|\n|   10|(855) 542-5251|\n|   11|(844) 536-8036|\n|   12|  844-076-5141|\n|   13|(855) 016-0163|\n|   14|(822) 163-3254|\n|   15|(833) 499-3527|\n|   16|  833-941-0824|\n|   17|  811 409-6734|\n|   20|(811) 972-1377|\n|   21|(822) 661-2898|\n+-----+--------------+\nonly showing top 20 rows\n\n"
     ]
    }
   ],
   "source": [
    "from pyspark.sql import functions as F\n",
    "\n",
    "result = df_facilities.filter(F.upper(F.col(\"telephone\")).like(\"%\")).select('memid', 'telephone')\n",
    "\n",
    "\n",
    "result.show()"
   ]
  },
  {
   "cell_type": "markdown",
   "metadata": {
    "application/vnd.databricks.v1+cell": {
     "cellMetadata": {
      "byteLimit": 2048000,
      "rowLimit": 10000
     },
     "inputWidgets": {},
     "nuid": "4dba5c8f-ce97-4942-b358-39310d6336a9",
     "showTitle": false,
     "tableResultSettingsMap": {},
     "title": ""
    }
   },
   "source": [
    "### Question\n",
    "4. You'd like to produce a count of how many members you have whose surname starts with each letter of the alphabet. Sort by the letter, and don't worry about printing out a letter if the count is 0.\n",
    "\n",
    "easy - https://pgexercises.com/questions/string/substr.html group by, substr"
   ]
  },
  {
   "cell_type": "code",
   "execution_count": 0,
   "metadata": {
    "application/vnd.databricks.v1+cell": {
     "cellMetadata": {
      "byteLimit": 2048000,
      "rowLimit": 10000
     },
     "inputWidgets": {},
     "nuid": "1d6f996e-be6d-4da0-9799-6f6febe8a721",
     "showTitle": false,
     "tableResultSettingsMap": {},
     "title": ""
    }
   },
   "outputs": [
    {
     "output_type": "stream",
     "name": "stdout",
     "output_type": "stream",
     "text": [
      "+------------+-----+\n|First Letter|count|\n+------------+-----+\n|           B|    5|\n|           C|    2|\n|           D|    1|\n|           F|    2|\n|           G|    2|\n|           H|    1|\n|           J|    3|\n|           M|    1|\n|           O|    1|\n|           P|    2|\n|           R|    2|\n|           S|    6|\n|           T|    2|\n|           W|    1|\n+------------+-----+\n\n"
     ]
    }
   ],
   "source": [
    "from pyspark.sql.functions import substring, upper, col, count\n",
    "\n",
    "result = (\n",
    "    df_facilities.withColumn('First Letter', upper(substring(col('surname'), 1, 1)))\n",
    "    .groupBy('First Letter')\n",
    "    .agg(count('*').alias('count'))\n",
    "    .orderBy('First Letter')\n",
    ")\n",
    "\n",
    "result.show()\n"
   ]
  },
  {
   "cell_type": "markdown",
   "metadata": {
    "application/vnd.databricks.v1+cell": {
     "cellMetadata": {
      "byteLimit": 2048000,
      "rowLimit": 10000
     },
     "inputWidgets": {},
     "nuid": "8944d26a-2633-46a3-8915-e5df36f2be37",
     "showTitle": false,
     "tableResultSettingsMap": {},
     "title": ""
    }
   },
   "source": [
    "\n",
    "### Question\n",
    "5. Produce a list of all the dates in October 2012. They can be output as a timestamp (with time set to midnight) or a date.\n",
    "\n",
    "easy - https://pgexercises.com/questions/date/series.html generate ts\n"
   ]
  },
  {
   "cell_type": "code",
   "execution_count": 0,
   "metadata": {
    "application/vnd.databricks.v1+cell": {
     "cellMetadata": {
      "byteLimit": 2048000,
      "rowLimit": 10000
     },
     "inputWidgets": {},
     "nuid": "69759a60-5d41-451b-8c80-029f5392911c",
     "showTitle": false,
     "tableResultSettingsMap": {},
     "title": ""
    }
   },
   "outputs": [
    {
     "output_type": "stream",
     "name": "stdout",
     "output_type": "stream",
     "text": [
      "+----------+\n|   October|\n+----------+\n|2012-09-30|\n|2012-10-01|\n|2012-10-02|\n|2012-10-03|\n|2012-10-04|\n|2012-10-05|\n|2012-10-06|\n|2012-10-07|\n|2012-10-08|\n|2012-10-09|\n|2012-10-10|\n|2012-10-11|\n|2012-10-12|\n|2012-10-13|\n|2012-10-14|\n|2012-10-15|\n|2012-10-16|\n|2012-10-17|\n|2012-10-18|\n|2012-10-19|\n+----------+\nonly showing top 20 rows\n\n"
     ]
    }
   ],
   "source": [
    "from pyspark.sql import SparkSession\n",
    "from pyspark.sql.functions import sequence, explode, to_date, lit, date_add\n",
    "\n",
    "\n",
    "df = spark.createDataFrame([(1,)], [\"id\"])  \n",
    "\n",
    "start_date = to_date(lit(\"2012-09-30\"))\n",
    "\n",
    "df = spark.range(31).toDF(\"noOfDays\")\n",
    "\n",
    "df = df.select(col(\"noOfDays\").cast(\"int\"))\n",
    "\n",
    "df = df.withColumn(\"October\", date_add(start_date, col(\"noOfDays\")))\n",
    "\n",
    "df = df.select(col('October'))\n",
    "df.show()"
   ]
  },
  {
   "cell_type": "markdown",
   "metadata": {
    "application/vnd.databricks.v1+cell": {
     "cellMetadata": {
      "byteLimit": 2048000,
      "rowLimit": 10000
     },
     "inputWidgets": {},
     "nuid": "acd9376d-16fc-410f-a15b-f5c2f596f690",
     "showTitle": false,
     "tableResultSettingsMap": {},
     "title": ""
    }
   },
   "source": [
    "6. Question\n",
    "Return a count of bookings for each month, sorted by month\n",
    "\n",
    "easy - https://pgexercises.com/questions/date/bookingspermonth.html extract month from ts\n",
    "\n"
   ]
  },
  {
   "cell_type": "code",
   "execution_count": 0,
   "metadata": {
    "application/vnd.databricks.v1+cell": {
     "cellMetadata": {
      "byteLimit": 2048000,
      "rowLimit": 10000
     },
     "inputWidgets": {},
     "nuid": "fdd6768c-2c48-4e0b-832e-cf8c4e1e223f",
     "showTitle": false,
     "tableResultSettingsMap": {},
     "title": ""
    }
   },
   "outputs": [
    {
     "output_type": "stream",
     "name": "stdout",
     "output_type": "stream",
     "text": [
      "+----------+-----+\n|     month|count|\n+----------+-----+\n|2012-07-01|  658|\n|2012-08-01| 1472|\n|2012-09-01| 1913|\n|2013-01-01|    1|\n+----------+-----+\n\n"
     ]
    }
   ],
   "source": [
    "\n",
    "from pyspark.sql.functions import date_trunc, count, to_date\n",
    "\n",
    "result = df_booking.groupBy(\n",
    "    to_date(date_trunc('month', 'starttime')).alias('month')\n",
    ").agg(\n",
    "    count('*').alias('count')\n",
    ").orderBy('month')\n",
    "\n",
    "result.show()"
   ]
  }
 ],
 "metadata": {
  "application/vnd.databricks.v1+notebook": {
   "computePreferences": null,
   "dashboards": [],
   "environmentMetadata": {
    "base_environment": "",
    "environment_version": "1"
   },
   "inputWidgetPreferences": null,
   "language": "python",
   "notebookMetadata": {
    "mostRecentlyExecutedCommandWithImplicitDF": {
     "commandId": -1,
     "dataframes": [
      "_sqldf"
     ]
    },
    "pythonIndentUnit": 4
   },
   "notebookName": "1 - Spark Dataframe Data Manipulation (pgexercises)",
   "widgets": {}
  }
 },
 "nbformat": 4,
 "nbformat_minor": 0
}