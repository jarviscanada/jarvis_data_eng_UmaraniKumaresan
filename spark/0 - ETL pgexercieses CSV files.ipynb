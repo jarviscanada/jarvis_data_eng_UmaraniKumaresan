{
 "cells": [
  {
   "cell_type": "code",
   "execution_count": 0,
   "metadata": {
    "application/vnd.databricks.v1+cell": {
     "cellMetadata": {
      "byteLimit": 2048000,
      "rowLimit": 10000
     },
     "inputWidgets": {},
     "nuid": "44461f30-be4a-44dd-bfd3-8d84c108d533",
     "showTitle": false,
     "tableResultSettingsMap": {},
     "title": ""
    }
   },
   "outputs": [
    {
     "output_type": "stream",
     "name": "stdout",
     "output_type": "stream",
     "text": [
      "+------+-----+-----+-------------------+-----+\n|bookid|facid|memid|          starttime|slots|\n+------+-----+-----+-------------------+-----+\n|     0|    3|    1|2012-07-03 11:00:00|    2|\n|     1|    4|    1|2012-07-03 08:00:00|    2|\n|     2|    6|    0|2012-07-03 18:00:00|    2|\n|     3|    7|    1|2012-07-03 19:00:00|    2|\n|     4|    8|    1|2012-07-03 10:00:00|    1|\n|     5|    8|    1|2012-07-03 15:00:00|    1|\n|     6|    0|    2|2012-07-04 09:00:00|    3|\n|     7|    0|    2|2012-07-04 15:00:00|    3|\n|     8|    4|    3|2012-07-04 13:30:00|    2|\n|     9|    4|    0|2012-07-04 15:00:00|    2|\n|    10|    4|    0|2012-07-04 17:30:00|    2|\n|    11|    6|    0|2012-07-04 12:30:00|    2|\n|    12|    6|    0|2012-07-04 14:00:00|    2|\n|    13|    6|    1|2012-07-04 15:30:00|    2|\n|    14|    7|    2|2012-07-04 14:00:00|    2|\n|    15|    8|    2|2012-07-04 12:00:00|    1|\n|    16|    8|    3|2012-07-04 18:00:00|    1|\n|    17|    1|    0|2012-07-05 17:30:00|    3|\n|    18|    2|    1|2012-07-05 09:30:00|    3|\n|    19|    3|    3|2012-07-05 09:00:00|    2|\n+------+-----+-----+-------------------+-----+\nonly showing top 20 rows\n\nroot\n |-- bookid: integer (nullable = true)\n |-- facid: integer (nullable = true)\n |-- memid: integer (nullable = true)\n |-- starttime: timestamp (nullable = true)\n |-- slots: integer (nullable = true)\n\n+------+-----+-----+-------------------+-----+\n|bookid|facid|memid|          starttime|slots|\n+------+-----+-----+-------------------+-----+\n|     0|    3|    1|2012-07-03 11:00:00|    2|\n|     1|    4|    1|2012-07-03 08:00:00|    2|\n|     2|    6|    0|2012-07-03 18:00:00|    2|\n|     3|    7|    1|2012-07-03 19:00:00|    2|\n|     4|    8|    1|2012-07-03 10:00:00|    1|\n|     5|    8|    1|2012-07-03 15:00:00|    1|\n|     6|    0|    2|2012-07-04 09:00:00|    3|\n|     7|    0|    2|2012-07-04 15:00:00|    3|\n|     8|    4|    3|2012-07-04 13:30:00|    2|\n|     9|    4|    0|2012-07-04 15:00:00|    2|\n|    10|    4|    0|2012-07-04 17:30:00|    2|\n|    11|    6|    0|2012-07-04 12:30:00|    2|\n|    12|    6|    0|2012-07-04 14:00:00|    2|\n|    13|    6|    1|2012-07-04 15:30:00|    2|\n|    14|    7|    2|2012-07-04 14:00:00|    2|\n|    15|    8|    2|2012-07-04 12:00:00|    1|\n|    16|    8|    3|2012-07-04 18:00:00|    1|\n|    17|    1|    0|2012-07-05 17:30:00|    3|\n|    18|    2|    1|2012-07-05 09:30:00|    3|\n|    19|    3|    3|2012-07-05 09:00:00|    2|\n+------+-----+-----+-------------------+-----+\nonly showing top 20 rows\n\n"
     ]
    }
   ],
   "source": [
    "from pyspark.sql.types import StructType, StructField, IntegerType, TimestampType\n",
    "\n",
    "file_location = \"/FileStore/bookings.csv\"\n",
    "\n",
    "# Load the CSV file into a DataFrame\n",
    "df = spark.read.format(\"csv\").option(\"header\", \"true\").option(\"inferSchema\", \"true\").load(file_location)\n",
    "\n",
    "df.show()\n",
    "df.printSchema()\n",
    "\n",
    "# Define schema for the bookings table\n",
    "schema = StructType([\n",
    "    StructField(\"bookid\", IntegerType(), True),\n",
    "    StructField(\"facid\", IntegerType(), True),\n",
    "    StructField(\"memid\", IntegerType(), True),\n",
    "    StructField(\"starttime\", TimestampType(), True),\n",
    "    StructField(\"slots\", IntegerType(), True)\n",
    "])\n",
    "\n",
    "# Read data from CSV file into DataFrame with predefined schema\n",
    "df = spark.read.format(\"csv\").option(\"header\", \"true\").schema(schema).load(file_location)\n",
    "\n",
    "# Drop the table if it already exists\n",
    "spark.sql(\"DROP TABLE IF EXISTS bookings\")\n",
    "\n",
    "# Write data from DataFrame into managed table\n",
    "df.write.saveAsTable(\"bookings\")\n",
    "\n",
    "# Verify the table creation\n",
    "spark.sql(\"SELECT * FROM bookings\").show()\n"
   ]
  },
  {
   "cell_type": "code",
   "execution_count": 0,
   "metadata": {
    "application/vnd.databricks.v1+cell": {
     "cellMetadata": {
      "byteLimit": 2048000,
      "rowLimit": 10000
     },
     "inputWidgets": {},
     "nuid": "70fe96b8-c1f3-40da-8e39-7375bcdf31cf",
     "showTitle": false,
     "tableResultSettingsMap": {},
     "title": ""
    }
   },
   "outputs": [
    {
     "output_type": "stream",
     "name": "stdout",
     "output_type": "stream",
     "text": [
      "+-----+---------------+----------+---------+-------------+------------------+\n|facid|           name|membercost|guestcost|initialoutlay|monthlymaintenance|\n+-----+---------------+----------+---------+-------------+------------------+\n|    0| Tennis Court 1|       5.0|     25.0|        10000|               200|\n|    1| Tennis Court 2|       5.0|     25.0|         8000|               200|\n|    2|Badminton Court|       0.0|     15.5|         4000|                50|\n|    3|   Table Tennis|       0.0|      5.0|          320|                10|\n|    4| Massage Room 1|      35.0|     80.0|         4000|              3000|\n|    5| Massage Room 2|      35.0|     80.0|         4000|              3000|\n|    6|   Squash Court|       3.5|     17.5|         5000|                80|\n|    7|  Snooker Table|       0.0|      5.0|          450|                15|\n|    8|     Pool Table|       0.0|      5.0|          400|                15|\n+-----+---------------+----------+---------+-------------+------------------+\n\nroot\n |-- facid: integer (nullable = true)\n |-- name: string (nullable = true)\n |-- membercost: double (nullable = true)\n |-- guestcost: double (nullable = true)\n |-- initialoutlay: integer (nullable = true)\n |-- monthlymaintenance: integer (nullable = true)\n\n+-----+---------------+----------+---------+-------------+------------------+\n|facid|           name|membercost|guestcost|initialoutlay|monthlymaintenance|\n+-----+---------------+----------+---------+-------------+------------------+\n|    0| Tennis Court 1|       5.0|     25.0|        10000|               200|\n|    1| Tennis Court 2|       5.0|     25.0|         8000|               200|\n|    2|Badminton Court|       0.0|     15.5|         4000|                50|\n|    3|   Table Tennis|       0.0|      5.0|          320|                10|\n|    4| Massage Room 1|      35.0|     80.0|         4000|              3000|\n|    5| Massage Room 2|      35.0|     80.0|         4000|              3000|\n|    6|   Squash Court|       3.5|     17.5|         5000|                80|\n|    7|  Snooker Table|       0.0|      5.0|          450|                15|\n|    8|     Pool Table|       0.0|      5.0|          400|                15|\n+-----+---------------+----------+---------+-------------+------------------+\n\n"
     ]
    }
   ],
   "source": [
    "from pyspark.sql.types import StructType, StructField, IntegerType, StringType, DateType\n",
    "\n",
    "# Define the schema for the members table\n",
    "schema = StructType([\n",
    "    StructField(\"memid\", IntegerType(), True),\n",
    "    StructField(\"surname\", StringType(), True),\n",
    "    StructField(\"firstname\", StringType(), True),\n",
    "    StructField(\"address\", StringType(), True),\n",
    "    StructField(\"zipcode\", StringType(), True),\n",
    "    StructField(\"telephone\", StringType(), True),\n",
    "    StructField(\"recommendedby\", IntegerType(), True),\n",
    "    StructField(\"joindate\", DateType(), True)\n",
    "])\n",
    "\n",
    "file_location = \"/FileStore/facilities.csv\"\n",
    "\n",
    "df = spark.read.format(\"csv\").option(\"header\", \"true\").option(\"inferSchema\", \"true\").load(file_location)\n",
    "\n",
    "df.show()\n",
    "df.printSchema()\n",
    "\n",
    "# Drop the table if it already exists\n",
    "spark.sql(\"DROP TABLE IF EXISTS members\")\n",
    "\n",
    "# Write data from DataFrame into a managed table\n",
    "df.write.saveAsTable(\"members\")\n",
    "\n",
    "# Verify the data loaded into the managed table\n",
    "spark.sql(\"SELECT * FROM members\").show()\n"
   ]
  },
  {
   "cell_type": "code",
   "execution_count": 0,
   "metadata": {
    "application/vnd.databricks.v1+cell": {
     "cellMetadata": {
      "byteLimit": 2048000,
      "rowLimit": 10000
     },
     "inputWidgets": {},
     "nuid": "5bfea79d-8b34-4f24-ac32-d409c664a3e6",
     "showTitle": false,
     "tableResultSettingsMap": {},
     "title": ""
    }
   },
   "outputs": [
    {
     "output_type": "stream",
     "name": "stdout",
     "output_type": "stream",
     "text": [
      "+-----+---------+---------+--------------------+-------+--------------+-------------+-------------------+\n|memid|  surname|firstname|             address|zipcode|     telephone|recommendedby|           joindate|\n+-----+---------+---------+--------------------+-------+--------------+-------------+-------------------+\n|    0|    GUEST|    GUEST|               GUEST|      0|(000) 000-0000|         null|2012-07-01 00:00:00|\n|    1|    Smith|   Darren|8 Bloomsbury Clos...|   4321|  555-555-5555|         null|2012-07-02 12:02:05|\n|    2|    Smith|    Tracy|8 Bloomsbury Clos...|   4321|  555-555-5555|         null|2012-07-02 12:08:23|\n|    3|   Rownam|      Tim|23 Highway Way, B...|  23423|(844) 693-0723|         null|2012-07-03 09:32:15|\n|    4| Joplette|   Janice|20 Crossing Road,...|    234|(833) 942-4710|            1|2012-07-03 10:25:05|\n|    5|  Butters|   Gerald|1065 Huntingdon A...|  56754|(844) 078-4130|            1|2012-07-09 10:44:09|\n|    6|    Tracy|   Burton|3 Tunisia Drive, ...|  45678|(822) 354-9973|         null|2012-07-15 08:52:55|\n|    7|     Dare|    Nancy|6 Hunting Lodge W...|  10383|(833) 776-4001|            4|2012-07-25 08:59:12|\n|    8|   Boothe|      Tim|3 Bloomsbury Clos...|    234|(811) 433-2547|            3|2012-07-25 16:02:35|\n|    9| Stibbons|   Ponder|5 Dragons Way, Wi...|  87630|(833) 160-3900|            6|2012-07-25 17:09:05|\n|   10|     Owen|  Charles|52 Cheshire Grove...|  28563|(855) 542-5251|            1|2012-08-03 19:42:37|\n|   11|    Jones|    David|976 Gnats Close, ...|  33862|(844) 536-8036|            4|2012-08-06 16:32:55|\n|   12|    Baker|     Anne|55 Powdery Street...|  80743|  844-076-5141|            9|2012-08-10 14:23:22|\n|   13|  Farrell|   Jemima|103 Firth Avenue,...|  57392|(855) 016-0163|         null|2012-08-10 14:28:01|\n|   14|    Smith|     Jack|252 Binkington Wa...|  69302|(822) 163-3254|            1|2012-08-10 16:22:05|\n|   15|    Bader| Florence|264 Ursula Drive,...|  84923|(833) 499-3527|            9|2012-08-10 17:52:03|\n|   16|    Baker|  Timothy|329 James Street,...|  58393|  833-941-0824|           13|2012-08-15 10:34:25|\n|   17|   Pinker|    David|5 Impreza Road, B...|  65332|  811 409-6734|           13|2012-08-16 11:32:47|\n|   20|  Genting|  Matthew|4 Nunnington Plac...|  52365|(811) 972-1377|            5|2012-08-19 14:55:55|\n|   21|Mackenzie|     Anna|64 Perkington Lan...|  64577|(822) 661-2898|            1|2012-08-26 09:32:05|\n+-----+---------+---------+--------------------+-------+--------------+-------------+-------------------+\nonly showing top 20 rows\n\nroot\n |-- memid: integer (nullable = true)\n |-- surname: string (nullable = true)\n |-- firstname: string (nullable = true)\n |-- address: string (nullable = true)\n |-- zipcode: integer (nullable = true)\n |-- telephone: string (nullable = true)\n |-- recommendedby: integer (nullable = true)\n |-- joindate: timestamp (nullable = true)\n\n+-----+---------+---------+--------------------+-------+--------------+-------------+-------------------+\n|memid|  surname|firstname|             address|zipcode|     telephone|recommendedby|           joindate|\n+-----+---------+---------+--------------------+-------+--------------+-------------+-------------------+\n|    0|    GUEST|    GUEST|               GUEST|      0|(000) 000-0000|         null|2012-07-01 00:00:00|\n|    1|    Smith|   Darren|8 Bloomsbury Clos...|   4321|  555-555-5555|         null|2012-07-02 12:02:05|\n|    2|    Smith|    Tracy|8 Bloomsbury Clos...|   4321|  555-555-5555|         null|2012-07-02 12:08:23|\n|    3|   Rownam|      Tim|23 Highway Way, B...|  23423|(844) 693-0723|         null|2012-07-03 09:32:15|\n|    4| Joplette|   Janice|20 Crossing Road,...|    234|(833) 942-4710|            1|2012-07-03 10:25:05|\n|    5|  Butters|   Gerald|1065 Huntingdon A...|  56754|(844) 078-4130|            1|2012-07-09 10:44:09|\n|    6|    Tracy|   Burton|3 Tunisia Drive, ...|  45678|(822) 354-9973|         null|2012-07-15 08:52:55|\n|    7|     Dare|    Nancy|6 Hunting Lodge W...|  10383|(833) 776-4001|            4|2012-07-25 08:59:12|\n|    8|   Boothe|      Tim|3 Bloomsbury Clos...|    234|(811) 433-2547|            3|2012-07-25 16:02:35|\n|    9| Stibbons|   Ponder|5 Dragons Way, Wi...|  87630|(833) 160-3900|            6|2012-07-25 17:09:05|\n|   10|     Owen|  Charles|52 Cheshire Grove...|  28563|(855) 542-5251|            1|2012-08-03 19:42:37|\n|   11|    Jones|    David|976 Gnats Close, ...|  33862|(844) 536-8036|            4|2012-08-06 16:32:55|\n|   12|    Baker|     Anne|55 Powdery Street...|  80743|  844-076-5141|            9|2012-08-10 14:23:22|\n|   13|  Farrell|   Jemima|103 Firth Avenue,...|  57392|(855) 016-0163|         null|2012-08-10 14:28:01|\n|   14|    Smith|     Jack|252 Binkington Wa...|  69302|(822) 163-3254|            1|2012-08-10 16:22:05|\n|   15|    Bader| Florence|264 Ursula Drive,...|  84923|(833) 499-3527|            9|2012-08-10 17:52:03|\n|   16|    Baker|  Timothy|329 James Street,...|  58393|  833-941-0824|           13|2012-08-15 10:34:25|\n|   17|   Pinker|    David|5 Impreza Road, B...|  65332|  811 409-6734|           13|2012-08-16 11:32:47|\n|   20|  Genting|  Matthew|4 Nunnington Plac...|  52365|(811) 972-1377|            5|2012-08-19 14:55:55|\n|   21|Mackenzie|     Anna|64 Perkington Lan...|  64577|(822) 661-2898|            1|2012-08-26 09:32:05|\n+-----+---------+---------+--------------------+-------+--------------+-------------+-------------------+\nonly showing top 20 rows\n\n"
     ]
    }
   ],
   "source": [
    "from pyspark.sql.types import StructType, StructField, IntegerType, StringType, DoubleType\n",
    "\n",
    "# Define the schema for the facilities table\n",
    "schema = StructType([\n",
    "    StructField(\"facid\", IntegerType(), True),\n",
    "    StructField(\"name\", StringType(), True),\n",
    "    StructField(\"membercost\", DoubleType(), True),\n",
    "    StructField(\"guestcost\", DoubleType(), True),\n",
    "    StructField(\"initialoutlay\", DoubleType(), True),\n",
    "    StructField(\"monthlymaintenance\", DoubleType(), True)\n",
    "])\n",
    "\n",
    "file_location = \"/FileStore/members.csv\"\n",
    "\n",
    "df = spark.read.format(\"csv\").option(\"header\", \"true\").option(\"inferSchema\", \"true\").load(file_location)\n",
    "\n",
    "df.show()\n",
    "df.printSchema()\n",
    "\n",
    "# Drop the table if it already exists\n",
    "spark.sql(\"DROP TABLE IF EXISTS facilities\")\n",
    "\n",
    "# Write data from DataFrame into a managed table\n",
    "df.write.saveAsTable(\"facilities\")\n",
    "\n",
    "# Verify the data loaded into the managed table\n",
    "spark.sql(\"SELECT * FROM facilities\").show()\n",
    "\n"
   ]
  }
 ],
 "metadata": {
  "application/vnd.databricks.v1+notebook": {
   "computePreferences": null,
   "dashboards": [],
   "environmentMetadata": {
    "base_environment": "",
    "client": "1"
   },
   "language": "python",
   "notebookMetadata": {
    "pythonIndentUnit": 4
   },
   "notebookName": "0 - ETL pgexercieses CSV files",
   "widgets": {}
  }
 },
 "nbformat": 4,
 "nbformat_minor": 0
}
